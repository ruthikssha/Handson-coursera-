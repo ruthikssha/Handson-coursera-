{
 "cells": [
  {
   "cell_type": "markdown",
   "id": "720c0c6f-aa2b-4e4d-8163-50bb59499856",
   "metadata": {
    "tags": []
   },
   "source": [
    "In this notebook,Data science tools and ecosystem are summarized."
   ]
  },
  {
   "cell_type": "markdown",
   "id": "98ac3366-0bc6-4c5e-ae67-65a87a1c50f6",
   "metadata": {},
   "source": [
    "Some of the popular languages that data scientists use are:\n",
    "1. Python\n",
    "2. Java\n",
    "3. R programming"
   ]
  },
  {
   "cell_type": "markdown",
   "id": "38c0a157-6732-4fe3-9cae-ad9242e04a32",
   "metadata": {},
   "source": [
    "Some of the commonly used libraries used by data scientists include:\n",
    "1. Pandas \n",
    "2. TensorFlow\n",
    "3. Keras\n",
    "\n"
   ]
  },
  {
   "cell_type": "markdown",
   "id": "3b10a3b8-dad2-4a05-9b30-6a00dde8d6a1",
   "metadata": {},
   "source": [
    "|Data science|\n",
    "--------------\n",
    "|Jupyter notebook|\n",
    "|Zeppelin notebook|\n",
    "|R studio's|\n"
   ]
  },
  {
   "cell_type": "markdown",
   "id": "815ab93b-ae27-446d-9e3b-a386ea77cd4d",
   "metadata": {},
   "source": [
    "### Below are a few examples of evaluating arithmetic expressions in python.\n",
    "1. 1+1=2\n",
    "2. 2-1=1"
   ]
  },
  {
   "cell_type": "code",
   "execution_count": 2,
   "id": "8fe8cc14-4b37-4d35-97c3-6ccee0815a02",
   "metadata": {
    "tags": []
   },
   "outputs": [
    {
     "data": {
      "text/plain": [
       "17"
      ]
     },
     "execution_count": 2,
     "metadata": {},
     "output_type": "execute_result"
    }
   ],
   "source": [
    "# This a simple arithmetic expression to mutiply then add integers.\n",
    "(3*4)+5"
   ]
  },
  {
   "cell_type": "code",
   "execution_count": 9,
   "id": "91bd27c9-0de8-443e-8078-760d6e8dd1bc",
   "metadata": {
    "tags": []
   },
   "outputs": [
    {
     "name": "stdout",
     "output_type": "stream",
     "text": [
      "Hours= 5\n",
      "Minutes= 30\n"
     ]
    }
   ],
   "source": [
    "# This will convert 200 minutes to hours by diving by 60\n",
    "hours, minutes = divmod(330, 60)\n",
    "print(\"Hours=\",hours)\n",
    "print(\"Minutes=\",minutes)"
   ]
  },
  {
   "cell_type": "markdown",
   "id": "846002c4-d9fe-4465-a5fc-e4e34e9c7487",
   "metadata": {},
   "source": [
    "**Objective**\n",
    "* Java\n",
    "* Python\n",
    "* R programming \n",
    "* SQL\n",
    "* Scala\n"
   ]
  },
  {
   "cell_type": "markdown",
   "id": "373a91cc-2ae8-4554-975a-348c149126ae",
   "metadata": {},
   "source": [
    "## Author\n",
    "Ruthikssha"
   ]
  },
  {
   "cell_type": "code",
   "execution_count": null,
   "id": "d3cc14a6-b60d-4ed5-8d41-771e62322e73",
   "metadata": {},
   "outputs": [],
   "source": []
  }
 ],
 "metadata": {
  "kernelspec": {
   "display_name": "Python",
   "language": "python",
   "name": "conda-env-python-py"
  },
  "language_info": {
   "codemirror_mode": {
    "name": "ipython",
    "version": 3
   },
   "file_extension": ".py",
   "mimetype": "text/x-python",
   "name": "python",
   "nbconvert_exporter": "python",
   "pygments_lexer": "ipython3",
   "version": "3.7.12"
  }
 },
 "nbformat": 4,
 "nbformat_minor": 5
}
